{
 "cells": [
  {
   "cell_type": "markdown",
   "metadata": {
    "notebookRunGroups": {
     "groupValue": "1"
    },
    "slideshow": {
     "slide_type": "slide"
    }
   },
   "source": [
    "# Gentle introduction to Machine Learning and Deep Learning"
   ]
  },
  {
   "cell_type": "markdown",
   "metadata": {
    "notebookRunGroups": {
     "groupValue": ""
    },
    "slideshow": {
     "slide_type": "skip"
    }
   },
   "source": [
    "**Machine Learning**, **Deep Learning**, and **Artificial Intelligence** are three popular, fast-growing fields of computer science with many applications.\n",
    "Despite the terms are often used interchangeably, these terms are not actually synonymous. **Deep Learning** is a subset of **Machine Learning**, while **Artificial Intelligence** (or **AI**) is an umbrella term for both of them. One of the major common things between these three fields is that all of them share a focus on developing algorithms to make *predictions*. The particular algorithms, however, are what makes them different. "
   ]
  },
  {
   "cell_type": "markdown",
   "metadata": {
    "slideshow": {
     "slide_type": "subslide"
    }
   },
   "source": [
    "- Machine Learning uses various techniques (including many statistical methods) to teach computer systems how to learn from data without explicit programming.\n",
    "- Deep Learning uses deep neural networks with multiple layers of processing units to extract features and recognize patterns from data.\n",
    "- AI is the most comprehensive term for techniques that enable machines to imitate human intelligence. It encompasses reinforcement learning, beyond deep learning and machine learning."
   ]
  },
  {
   "cell_type": "markdown",
   "metadata": {
    "notebookRunGroups": {
     "groupValue": "1"
    },
    "slideshow": {
     "slide_type": "fragment"
    }
   },
   "source": [
    "<div align=\"center\">\n",
    "    <img style=\"width:30%\" src=\"https://i.ibb.co/vwz7QWJ/Group-6.png\">\n",
    "</div>  "
   ]
  },
  {
   "cell_type": "markdown",
   "metadata": {
    "slideshow": {
     "slide_type": "skip"
    }
   },
   "source": [
    "In this tutorial, we will mainly discuss the core principles of Machine Learning and briefly dive into the topic that can be considered the foundation of Deep Learning. The goal of this tutorial is not to tell you all of the topics in both Machine Learning and Deep Learning but rather teach you the major terminology used in the fields so you are capable of following discussion in the field. "
   ]
  },
  {
   "cell_type": "markdown",
   "metadata": {
    "notebookRunGroups": {
     "groupValue": "2"
    },
    "slideshow": {
     "slide_type": "slide"
    }
   },
   "source": [
    "## Linear Regression"
   ]
  },
  {
   "cell_type": "markdown",
   "metadata": {
    "notebookRunGroups": {
     "groupValue": "2"
    },
    "slideshow": {
     "slide_type": "subslide"
    }
   },
   "source": [
    "One of the simplest machine learning algorithms is **linear regression**. **Linear regression** is a statistical method for finding the line or curve (in higher dimensions) that best fits a set of data points. It is used to *predict* a continuous value, such as the price of a house, given some input information, such as the size of the house and the number of bedrooms."
   ]
  },
  {
   "cell_type": "markdown",
   "metadata": {
    "slideshow": {
     "slide_type": "skip"
    }
   },
   "source": [
    "In statistics, you might have learned about **linear regression** in a bit different context. In statistics, the linear model is often used to support statistically the existence of a relationship between two or more variables. In machine learning, however, we are more interested in the predictive power of the same model. Having some observed data, which in machine learning we call *training data*, we want to find a model that can predict the values of the *target* variable for new unobserved data points called *test set*."
   ]
  },
  {
   "cell_type": "markdown",
   "metadata": {
    "slideshow": {
     "slide_type": "fragment"
    }
   },
   "source": [
    "<div align=\"center\">\n",
    "    <img src=\"https://dezyre.gumlet.io/images/blog/probability-and-statistics-for-machine-learning/image_60135806631632916840547.png?w=900&dpr=2.0\">\n",
    "</div> \n",
    "\n",
    "*Image source: [LehmanBrotha](https://twitter.com/LehmanBrotha)*"
   ]
  },
  {
   "cell_type": "markdown",
   "metadata": {
    "slideshow": {
     "slide_type": "skip"
    }
   },
   "source": [
    "> Terminology note: in machine learning the variable that we are trying to predict is often called *target*, while the input (known) variables are called *features*. In this case, we are going to use only one feature for simplicity, but in general, we can have multiple features. "
   ]
  },
  {
   "cell_type": "code",
   "execution_count": 1,
   "metadata": {
    "hideCode": true,
    "notebookRunGroups": {
     "groupValue": "2"
    },
    "slideshow": {
     "slide_type": "skip"
    }
   },
   "outputs": [],
   "source": [
    "# Import all necessary libraries \n",
    "import seaborn as sns\n",
    "import numpy as np\n",
    "import matplotlib.pyplot as plt\n",
    "import ipywidgets as widgets\n",
    "import cv2 as cv2\n",
    "from skimage import filters"
   ]
  },
  {
   "cell_type": "markdown",
   "metadata": {
    "notebookRunGroups": {
     "groupValue": "2"
    },
    "slideshow": {
     "slide_type": "slide"
    }
   },
   "source": [
    "We will use the sample dataset to illustrate the concept of **linear regression** and (more importantly) to learn the main terminology used in machine learning. \n",
    "Data are coming from this [dataset](https://www.kaggle.com/datasets/fivethirtyeight/fivethirtyeight-bad-drivers-dataset). The dataset summarizes the information from different US states about the number of traffic accidents. We will use the percentage of drivers involved in fatal collisions not involved in previous accidents as the input feature and the total number of fatal collisions as the target variable."
   ]
  },
  {
   "cell_type": "code",
   "execution_count": 2,
   "metadata": {
    "hideCode": true,
    "notebookRunGroups": {
     "groupValue": "2"
    },
    "slideshow": {
     "slide_type": "fragment"
    }
   },
   "outputs": [
    {
     "data": {
      "text/html": [
       "<div>\n",
       "<style scoped>\n",
       "    .dataframe tbody tr th:only-of-type {\n",
       "        vertical-align: middle;\n",
       "    }\n",
       "\n",
       "    .dataframe tbody tr th {\n",
       "        vertical-align: top;\n",
       "    }\n",
       "\n",
       "    .dataframe thead th {\n",
       "        text-align: right;\n",
       "    }\n",
       "</style>\n",
       "<table border=\"1\" class=\"dataframe\">\n",
       "  <thead>\n",
       "    <tr style=\"text-align: right;\">\n",
       "      <th></th>\n",
       "      <th>total</th>\n",
       "      <th>speeding</th>\n",
       "      <th>alcohol</th>\n",
       "      <th>not_distracted</th>\n",
       "      <th>no_previous</th>\n",
       "      <th>ins_premium</th>\n",
       "      <th>ins_losses</th>\n",
       "      <th>abbrev</th>\n",
       "    </tr>\n",
       "  </thead>\n",
       "  <tbody>\n",
       "    <tr>\n",
       "      <th>0</th>\n",
       "      <td>18.8</td>\n",
       "      <td>7.332</td>\n",
       "      <td>5.640</td>\n",
       "      <td>18.048</td>\n",
       "      <td>15.040</td>\n",
       "      <td>784.55</td>\n",
       "      <td>145.08</td>\n",
       "      <td>AL</td>\n",
       "    </tr>\n",
       "    <tr>\n",
       "      <th>1</th>\n",
       "      <td>18.1</td>\n",
       "      <td>7.421</td>\n",
       "      <td>4.525</td>\n",
       "      <td>16.290</td>\n",
       "      <td>17.014</td>\n",
       "      <td>1053.48</td>\n",
       "      <td>133.93</td>\n",
       "      <td>AK</td>\n",
       "    </tr>\n",
       "    <tr>\n",
       "      <th>2</th>\n",
       "      <td>18.6</td>\n",
       "      <td>6.510</td>\n",
       "      <td>5.208</td>\n",
       "      <td>15.624</td>\n",
       "      <td>17.856</td>\n",
       "      <td>899.47</td>\n",
       "      <td>110.35</td>\n",
       "      <td>AZ</td>\n",
       "    </tr>\n",
       "    <tr>\n",
       "      <th>3</th>\n",
       "      <td>22.4</td>\n",
       "      <td>4.032</td>\n",
       "      <td>5.824</td>\n",
       "      <td>21.056</td>\n",
       "      <td>21.280</td>\n",
       "      <td>827.34</td>\n",
       "      <td>142.39</td>\n",
       "      <td>AR</td>\n",
       "    </tr>\n",
       "    <tr>\n",
       "      <th>4</th>\n",
       "      <td>12.0</td>\n",
       "      <td>4.200</td>\n",
       "      <td>3.360</td>\n",
       "      <td>10.920</td>\n",
       "      <td>10.680</td>\n",
       "      <td>878.41</td>\n",
       "      <td>165.63</td>\n",
       "      <td>CA</td>\n",
       "    </tr>\n",
       "  </tbody>\n",
       "</table>\n",
       "</div>"
      ],
      "text/plain": [
       "   total  speeding  alcohol  not_distracted  no_previous  ins_premium  \\\n",
       "0   18.8     7.332    5.640          18.048       15.040       784.55   \n",
       "1   18.1     7.421    4.525          16.290       17.014      1053.48   \n",
       "2   18.6     6.510    5.208          15.624       17.856       899.47   \n",
       "3   22.4     4.032    5.824          21.056       21.280       827.34   \n",
       "4   12.0     4.200    3.360          10.920       10.680       878.41   \n",
       "\n",
       "   ins_losses abbrev  \n",
       "0      145.08     AL  \n",
       "1      133.93     AK  \n",
       "2      110.35     AZ  \n",
       "3      142.39     AR  \n",
       "4      165.63     CA  "
      ]
     },
     "execution_count": 2,
     "metadata": {},
     "output_type": "execute_result"
    }
   ],
   "source": [
    "# Get an example dataset from seaborn\n",
    "data = sns.load_dataset('car_crashes')\n",
    "data.head()"
   ]
  },
  {
   "cell_type": "code",
   "execution_count": 3,
   "metadata": {
    "hideCode": true,
    "hidePrompt": false,
    "notebookRunGroups": {
     "groupValue": "2"
    },
    "slideshow": {
     "slide_type": "subslide"
    }
   },
   "outputs": [
    {
     "data": {
      "image/png": "[encoded data removed]",
      "text/plain": [
       "<Figure size 600x600 with 1 Axes>"
      ]
     },
     "metadata": {},
     "output_type": "display_data"
    }
   ],
   "source": [
    "# Separate the dataset into training and test sets (80/20 split)\n",
    "train = data.sample(frac=0.8, random_state=0)\n",
    "test = data.drop(train.index)\n",
    "\n",
    "# Set figure size\n",
    "plt.figure(figsize=(6, 6))\n",
    "\n",
    "# Plot both datasets\n",
    "sns.scatterplot(x='no_previous', y='total', data=train, s=50, label='Known data (Training data)')\n",
    "ys = np.array([0]* len(test))\n",
    "sns.scatterplot(x='no_previous', y=ys, data=test, s=50, color='tab:red', alpha=0.5, label='Unobserved data (No info about total # of crashes)')\n",
    "\n",
    "# Add axis labels and title\n",
    "plt.xlabel('Percentage of drivers involved in fatal collisions & not involved in previous accidents')\n",
    "plt.ylabel('Number of drivers involved in fatal collisions per billion miles')\n",
    "plt.title('Car crashes in the US')\n",
    "\n",
    "# Show the plot\n",
    "plt.show()"
   ]
  },
  {
   "cell_type": "markdown",
   "metadata": {
    "slideshow": {
     "slide_type": "slide"
    }
   },
   "source": [
    "### Linear Regression Model"
   ]
  },
  {
   "cell_type": "markdown",
   "metadata": {
    "slideshow": {
     "slide_type": "skip"
    }
   },
   "source": [
    "To predict the total number of car collisions based on the percentage of drivers involved in fatal collisions and not involved in previous accidents we may want to construct a mathematical model that would describe the relationship between two variables in the best possible way. \n",
    "\n",
    "One idea is the linear regression model, which assumes that the relationship between the input variable $x$ and the output variable $y$ is linear. In our case, it is pretty straightforward to expect a linear relationship between these two variables: the more there are naive drivers in the car collision, the more car collisions there will be in general. At least, this is something reasonable to expect."
   ]
  },
  {
   "cell_type": "markdown",
   "metadata": {
    "slideshow": {
     "slide_type": "subslide"
    }
   },
   "source": [
    "The equation for a simple linear regression model with one independent variable can be expressed as:\n",
    "\n",
    "\\begin{gather*}\n",
    "\\hat{y} = \\beta_0 + \\beta_1 x + \\epsilon\n",
    "\\end{gather*}\n",
    "\n",
    "where:\n",
    "\n",
    "- $\\hat{y}$ is the predicted value of dependent variable\n",
    "- $x$ is the independent variable\n",
    "- $\\beta_0$ is the y-intercept or constant term\n",
    "- $\\beta_1$ is the regression coefficient or slope\n",
    "- $\\epsilon$ is the error term or residual"
   ]
  },
  {
   "cell_type": "markdown",
   "metadata": {
    "slideshow": {
     "slide_type": "subslide"
    }
   },
   "source": [
    "The equation for multiple linear regression with more than one independent variable can be written as:\n",
    "\n",
    "\\begin{gather*}\n",
    "\\hat{y} = \\beta_0 + \\beta_1 x_1 + \\beta_2 x_2 + \\dots + \\beta_p x_p + \\epsilon\n",
    "\\end{gather*}\n",
    "\n",
    "> Terminology note: in machine learning the parameters of the model are often called *weights* or *coefficients*. In this case, $\\beta_0$ and $\\beta_1$ are the weights of the model. The parameter $\\epsilon$ is often called *bias*. \n",
    "\n",
    "Having this model, the only thing that is left to us is to obtain the values of the coefficients $\\beta_0$, $\\beta_1$, and $\\epsilon$. Then we will be able to feed our model with new unobserved data points and it will return the predicted value of the target variable. On the graph below try to manually fit the line to the data points and explore the values of $\\beta_0$ and $\\beta_1$ you get. "
   ]
  },
  {
   "cell_type": "markdown",
   "metadata": {
    "slideshow": {
     "slide_type": "subslide"
    }
   },
   "source": [
    "<div align=\"center\">\n",
    "    <img src=\"https://i.ibb.co/rmt2947/model.png\">\n",
    "</div>"
   ]
  },
  {
   "cell_type": "code",
   "execution_count": 4,
   "metadata": {
    "hideCode": true,
    "hidePrompt": false,
    "notebookRunGroups": {
     "groupValue": "2"
    },
    "slideshow": {
     "slide_type": "slide"
    }
   },
   "outputs": [
    {
     "data": {
      "application/vnd.jupyter.widget-view+json": {
       "model_id": "66c91a4dd2e845848cee0b8b0af0d99d",
       "version_major": 2,
       "version_minor": 0
      },
      "text/plain": [
       "interactive(children=(FloatSlider(value=0.0, description='beta_0', max=10.0), FloatSlider(value=0.0, descripti…"
      ]
     },
     "metadata": {},
     "output_type": "display_data"
    }
   ],
   "source": [
    "# Define the plotting function\n",
    "@widgets.interact(beta_0 = widgets.FloatSlider(min=0, max=10, step=0.1, value=0), beta_1=widgets.FloatSlider(min=0, max=10, step=0.1, value=0), epsilon=widgets.FloatSlider(min=0, max=10, step=0.1, value=0))\n",
    "def plot_regression1(beta_0, beta_1, epsilon):\n",
    "    # Set the figure size\n",
    "    plt.figure(figsize=(6, 6))\n",
    "\n",
    "    # Define the regression line\n",
    "    xs = np.arange(min(train['no_previous']) - 5, max(train['no_previous']), 1)\n",
    "    total = beta_0 + beta_1 * xs + epsilon\n",
    "    \n",
    "    # Plot the data and regression line\n",
    "    sns.scatterplot(x='no_previous', y='total', data=train, s=50, label='Known data')\n",
    "    sns.lineplot(x=xs, y=total, color='tab:orange', label='Regression model')\n",
    "    \n",
    "    # Add axis labels and title\n",
    "    plt.xlabel('Percentage of drivers involved in fatal collisions not involved in previous accidents')\n",
    "    plt.ylabel('Number of drivers involved in fatal collisions per billion miles')\n",
    "    plt.title('Car crashes in the US linear regression model')\n",
    "        \n",
    "    # Show the plot\n",
    "    plt.show()"
   ]
  },
  {
   "cell_type": "markdown",
   "metadata": {
    "slideshow": {
     "slide_type": "slide"
    }
   },
   "source": [
    "### \"How well did we do?\" - Loss Function"
   ]
  },
  {
   "cell_type": "markdown",
   "metadata": {
    "slideshow": {
     "slide_type": "subslide"
    }
   },
   "source": [
    "How well did we do? How can we tell it? In machine learning, we define the *error function* (also called *the loss function*) to help us tell how well we did. One of the possible loss functions is *the sum of squares*.\n",
    "\n",
    "The *sum of squares* loss function is commonly used in linear regression to measure the difference between the predicted values and the actual values of the dependent variable. The equation for the sum of the squares loss function can be expressed as:\n",
    "\n",
    "\\begin{gather*}\n",
    "L(\\beta_0, \\beta_1, \\dots, \\beta_p) = \\sum_{i=1}^n (y_i - (\\beta_0 + \\beta_1 x_{i1} + \\beta_2 x_{i2} + \\dots + \\beta_p x_{ip} + \\epsilon))^2\n",
    "\\end{gather*}\n",
    "\n",
    "where:\n",
    "\n",
    "- $L$ is the sum of the squares loss function\n",
    "- $y_i$ is the actual value of the dependent variable for the $i$-th observation\n",
    "- $\\beta_0, \\beta_1, \\dots, \\beta_p$ are the regression coefficients or weights\n",
    "- $x_{i1}, x_{i2}, \\dots, x_{ip}$ are the independent variables for the $i$-th observation\n",
    "- $n$ is the total number of observations"
   ]
  },
  {
   "cell_type": "markdown",
   "metadata": {
    "slideshow": {
     "slide_type": "subslide"
    }
   },
   "source": [
    "This can be rewritten as:\n",
    "\\begin{gather*}\n",
    "L(\\beta_0, \\beta_1, \\dots, \\beta_p) = \\sum_{i=1}^n (y_i - \\hat{y}_i)^2\n",
    "\\end{gather*}\n",
    "\n",
    "where:\n",
    "- $\\hat{y}_i$ is the predicted value of the dependent variable for the $i$-th observation\n",
    "- and the rest is the same\n",
    "\n",
    "The goal of linear regression is to estimate the values of $\\beta_0$ and $\\beta_1$ that minimize the sum of squared residuals, which is the sum of the squared differences between the actual values of $y$ and the predicted values of $y$ based on the regression equation.\n",
    "\n",
    "In the below cell set the best obtain values of $\\beta_0$, $\\beta_1$, and $\\epsilon$ and run the cell to see how well you did."
   ]
  },
  {
   "cell_type": "markdown",
   "metadata": {
    "slideshow": {
     "slide_type": "skip"
    }
   },
   "source": [
    "> Terminology note: in order to compute the loss function we need to know the actual values of the target variable. In machine learning, we usually split the dataset into two parts: *training set* and *test set*. The training set is used to train the model (this is what we used in the interactive graph above), i.e. to find the best values of the parameters of the model. The test set is used to evaluate the performance of the model, for this purpose, we will use the so-called unobserved data from the first graph in the lecture (because I lied to you and we actually know the values of the target variable for these data points!). All that time it was our *test set*."
   ]
  },
  {
   "cell_type": "code",
   "execution_count": 5,
   "metadata": {
    "slideshow": {
     "slide_type": "slide"
    }
   },
   "outputs": [],
   "source": [
    "# Set beta_1 and epsilon\n",
    "beta_0 = 0.3\n",
    "beta_1 = 1.5\n",
    "epsilon = 0.2"
   ]
  },
  {
   "cell_type": "code",
   "execution_count": 6,
   "metadata": {
    "hideCode": true,
    "slideshow": {
     "slide_type": "subslide"
    }
   },
   "outputs": [
    {
     "name": "stdout",
     "output_type": "stream",
     "text": [
      "Sum of Squared Errors = 345.0936442500001\n"
     ]
    },
    {
     "data": {
      "image/png": "[encoded data removed]",
      "text/plain": [
       "<Figure size 800x800 with 1 Axes>"
      ]
     },
     "metadata": {},
     "output_type": "display_data"
    }
   ],
   "source": [
    "# Set the figure size\n",
    "plt.figure(figsize=(8, 8))\n",
    "\n",
    "beta_0 = float(beta_0)\n",
    "beta_1 = float(beta_1)\n",
    "epsilon = float(epsilon)\n",
    "\n",
    "# Define the regression line\n",
    "xs = test['no_previous']\n",
    "\n",
    "# Make predictions on the test set\n",
    "predictions = beta_0 + beta_1 * xs + epsilon\n",
    "\n",
    "# Plot the test data, predictions and regression line\n",
    "sns.scatterplot(x='no_previous', y='total', data=test, s=50, color='tab:blue', alpha=0.5, label='Unobserved data (Test data) actual values')\n",
    "sns.scatterplot(x=test['no_previous'], y=predictions, s=50, color='tab:orange', label='Predictions on test data')\n",
    "sns.lineplot(x=xs, y=predictions, color='tab:orange', label='Regression model', alpha=0.5)\n",
    "\n",
    "# Plot error\n",
    "for i in range(len(test)):\n",
    "    plt.plot([test['no_previous'].iloc[i], test['no_previous'].iloc[i]], [test['total'].iloc[i], predictions.iloc[i]], color='tab:red', alpha=0.5)\n",
    "    # Plot size of error as a circle\n",
    "    plt.scatter(test['no_previous'].iloc[i], test['total'].iloc[i], s=(test['total'].iloc[i] - predictions.iloc[i])**2 * 100, color='tab:red', alpha=0.5)\n",
    "\n",
    "\n",
    "# Print Sum of Squared Errors formula and value\n",
    "print('Sum of Squared Errors =', np.sum((test['total'] - predictions) ** 2))\n",
    "\n",
    "# Add axis labels and title\n",
    "plt.xlabel('Percentage of drivers involved in fatal collisions not involved in previous accidents')\n",
    "plt.ylabel('Number of drivers involved in fatal collisions per billion miles')\n",
    "plt.title('Car crashes in the US linear regression model')\n",
    "\n",
    "# Show the plot\n",
    "plt.show()"
   ]
  },
  {
   "cell_type": "markdown",
   "metadata": {
    "slideshow": {
     "slide_type": "slide"
    }
   },
   "source": [
    "The size of the circle around each unobserved data point is growing respectively with the size of the error for this data point. Try to experiment again with different parameters $\\beta_{0}$, $\\beta_{1}$,$\\epsilon$ (you can do it in the cell above by setting the respective variables to some values). Compare the output of the Sum of Squared Errors with your personal observation. Could you tell which parameters work better and if it agrees with a numerical value of the loss function?\n",
    "\n",
    "We can also plot the loss function (since it is a function obviously) and observe on the graph where the minimum value is. In the cell below try to fit the regression line manually but this time look at what is happening to loss function while you do it! "
   ]
  },
  {
   "cell_type": "code",
   "execution_count": 7,
   "metadata": {
    "hideCode": true,
    "slideshow": {
     "slide_type": "subslide"
    }
   },
   "outputs": [
    {
     "data": {
      "application/vnd.jupyter.widget-view+json": {
       "model_id": "78e23b4c1d914cb38655fd85aa3b9621",
       "version_major": 2,
       "version_minor": 0
      },
      "text/plain": [
       "interactive(children=(FloatSlider(value=1.0, description='selected_beta_1', max=2.0, step=0.01), Output()), _d…"
      ]
     },
     "metadata": {},
     "output_type": "display_data"
    }
   ],
   "source": [
    "def calculate_sum_of_squared_errors(targets, predictions):\n",
    "    # Calculate the sum of squared errors for a given beta\n",
    "    return np.sum((targets - predictions) ** 2)\n",
    "\n",
    "def plot_train_errors(xs, targets, predictions, ax):\n",
    "    # Plot the errors for the train data\n",
    "    for i in range(len(xs)):\n",
    "        ax.plot([xs.iloc[i], xs.iloc[i]], [targets.iloc[i], predictions.iloc[i]], color='tab:red', alpha=0.5)\n",
    "        ax.scatter(xs.iloc[i], targets.iloc[i], color='tab:red', alpha=0.5, s=abs(targets.iloc[i] - predictions.iloc[i]) * 100)\n",
    "\n",
    "# Add widgets to change the coefficients\n",
    "@widgets.interact(selected_beta_1=widgets.FloatSlider(min=0, max=2, step=0.01, value=1))\n",
    "def plot_regression(selected_beta_1):\n",
    "    # Create figure and axes\n",
    "    fig, ax = plt.subplots(1, 2, figsize=(18, 6))\n",
    "\n",
    "    # Plot the training data\n",
    "    sns.scatterplot(x='no_previous', y='total', data=train, s=50, label='Known data (Train data)', ax=ax[0])\n",
    "    \n",
    "    # Plot the regression line with the selected coefficients\n",
    "    xs = train['no_previous']\n",
    "    predictions = selected_beta_1 * xs\n",
    "    sns.lineplot(x=xs, y=predictions, color='tab:orange', label='Regression model', alpha=0.5, ax=ax[0])\n",
    "    \n",
    "    # Calculate and plot the sum of squared errors for different beta values\n",
    "    beta_1_values = np.arange(0, 2, 0.1)\n",
    "    errors = []\n",
    "    for beta_1 in beta_1_values:\n",
    "        error = calculate_sum_of_squared_errors(targets=test['total'], predictions=test['no_previous'] * beta_1)\n",
    "        errors.append(error)\n",
    "    \n",
    "    # Plot the sum of squared errors\n",
    "    ax[1].plot(beta_1_values, errors)\n",
    "    ax[1].scatter(selected_beta_1, calculate_sum_of_squared_errors(targets=test['total'], predictions=test['no_previous'] * selected_beta_1), color='tab:red', s=100)\n",
    "    ax[1].set_xlabel('Value of beta')\n",
    "    ax[1].set_ylabel('Sum of squared errors')\n",
    "    \n",
    "    # Plot the errors for train data\n",
    "    targets = train['total']\n",
    "    plot_train_errors(xs, targets, predictions, ax[0])\n",
    "    \n",
    "    # Set axis labels and legends\n",
    "    ax[0].set_xlabel('Percentage of drivers involved in fatal collisions not involved in previous accidents')\n",
    "    ax[0].set_ylabel('Number of drivers involved in fatal collisions per billion miles')\n",
    "    ax[0].set_title('Car crashes in the US linear regression model')\n",
    "    ax[1].set_title(r'Sum of squared errors for different values of $\\beta_{1}$')\n",
    "    ax[1].set_xlabel(r'$\\beta_{1}$')\n",
    "    ax[1].set_ylabel('Sum of squared errors')\n",
    "    ax[0].legend()\n",
    "    plt.show()"
   ]
  },
  {
   "cell_type": "markdown",
   "metadata": {
    "slideshow": {
     "slide_type": "skip"
    }
   },
   "source": [
    "> Terminology note: The process of finding the best position for the line is called *fitting* or *training* (term *training* is not often used for linear regression model, *fitting* is more common, but in principle it is the same process). The best fit line is the line that minimizes the sum of the squared errors, same as the best fit *weights* minimise the *error function* for neural networks. Here, we have used sum of squares to estimate the error of the model, in neural networks as well as in other algorithms other error functions are used but most of them (including sum of squares) are derived from *maximum likelihood principle*. "
   ]
  },
  {
   "cell_type": "markdown",
   "metadata": {
    "slideshow": {
     "slide_type": "subslide"
    }
   },
   "source": [
    "In sum of squares for 2 variables, the error function looks quite simple and it is feasible to estimate best possible value manually. Just for curiosity this is how error function can look for 2 variables in deep neural networks. Click on [link](http://www.telesens.co/loss-landscape-viz/viewer.html) to explore it interactively."
   ]
  },
  {
   "cell_type": "markdown",
   "metadata": {
    "slideshow": {
     "slide_type": "fragment"
    }
   },
   "source": [
    "<div align=\"center\", style=\"width: 30%\">\n",
    "    <img src=\"https://i.ibb.co/kmRBTXW/noshort.png\">\n",
    "</div>"
   ]
  },
  {
   "cell_type": "markdown",
   "metadata": {
    "slideshow": {
     "slide_type": "slide"
    }
   },
   "source": [
    "### \"How can we find the best fit line (automatically)?\" - Stochastic Gradient Descent"
   ]
  },
  {
   "cell_type": "markdown",
   "metadata": {
    "slideshow": {
     "slide_type": "subslide"
    }
   },
   "source": [
    "The same process of finding the best position for the line can be done automatically by using **gradient descent** algorithm. The idea is to start with some random values of $\\beta_0$ and $\\beta_1$ and then iteratively update them in the direction that minimizes the loss function. The equation for the stochastic gradient descent can be expressed as: \n",
    "\n",
    "\\begin{gather*}\n",
    "\\beta_j := \\beta_j - \\alpha \\frac{\\partial}{\\partial \\beta_j} L(\\beta_0, \\beta_1, \\dots, \\beta_p)\n",
    "\\end{gather*}\n",
    "\n",
    "where:\n",
    "\n",
    "- $\\beta_j$ is the $j$-th regression coefficient\n",
    "- $\\alpha$ is the learning rate\n",
    "- $L$ is the sum of squares loss function\n",
    "\n",
    "> Terminology note: The gradient descent is called stochastic when the loss function is computed for a single data point at a time. The gradient descent is called batch when the loss function is computed for all data points at a time."
   ]
  },
  {
   "cell_type": "code",
   "execution_count": 8,
   "metadata": {
    "hideCode": true,
    "slideshow": {
     "slide_type": "slide"
    }
   },
   "outputs": [
    {
     "data": {
      "application/vnd.jupyter.widget-view+json": {
       "model_id": "a53d4ffb3180434caaff6315171d4500",
       "version_major": 2,
       "version_minor": 0
      },
      "text/plain": [
       "interactive(children=(Play(value=0, description='Epochs', interval=1, max=1000), FloatText(value=1e-05, descri…"
      ]
     },
     "metadata": {},
     "output_type": "display_data"
    }
   ],
   "source": [
    "def calculate_sum_of_squared_errors(targets, predictions):\n",
    "    # Calculate the sum of squared errors for a given beta\n",
    "    return np.sum((targets - predictions) ** 2)\n",
    "\n",
    "def plot_train_errors(xs, targets, predictions, ax):\n",
    "    # Plot the errors for the train data\n",
    "    for i in range(len(xs)):\n",
    "        ax.plot([xs.iloc[i], xs.iloc[i]], [targets.iloc[i], predictions.iloc[i]], color='tab:red', alpha=0.5)\n",
    "        ax.scatter(xs.iloc[i], targets.iloc[i], color='tab:red', alpha=0.5, s=abs(targets.iloc[i] - predictions.iloc[i]) * 100)\n",
    "\n",
    "def update_beta(beta, learning_rate, xs, targets, predictions):\n",
    "    # Compute the gradient\n",
    "    gradient = compute_gradient(xs, targets, predictions)\n",
    "    return beta - learning_rate * gradient, gradient, beta\n",
    "\n",
    "def compute_gradient(xs, targets, predictions):\n",
    "    # Compute the gradient for all the data points iteratively\n",
    "    gradients = []\n",
    "    for i in range(len(xs)):\n",
    "        # Compute the gradient for a single data point\n",
    "        gradient = 2 * (predictions.iloc[i] - targets.iloc[i]) * xs.iloc[i]\n",
    "        gradients.append(gradient)\n",
    "    return np.mean(gradients)\n",
    "\n",
    "def plot_regression(selected_beta_1, gradient, previous_beta, learning_rate, ax):\n",
    "    # Plot the training data\n",
    "    sns.scatterplot(x='no_previous', y='total', data=train, s=50, label='Known data (Train data)', ax=ax[0])\n",
    "    # Plot the regression line with the selected coefficients\n",
    "    xs = train['no_previous']\n",
    "    predictions = selected_beta_1 * xs\n",
    "    sns.lineplot(x=xs, y=predictions, color='tab:orange', label='Regression model', alpha=0.5, ax=ax[0])\n",
    "    \n",
    "    # Plot the errors for train data\n",
    "    targets = train['total']\n",
    "    plot_train_errors(xs, targets, predictions, ax[0])\n",
    "\n",
    "    # Calculate all the sum of squared errors for different beta values\n",
    "    beta_1_values = np.arange(0, 2, 0.1)\n",
    "    errors = []\n",
    "    for beta_1 in beta_1_values:\n",
    "        error = calculate_sum_of_squared_errors(targets=test['total'], predictions=test['no_previous'] * beta_1)\n",
    "        errors.append(error)\n",
    "    \n",
    "    # Plot the loss function\n",
    "    ax[1].plot(beta_1_values, errors)\n",
    "    # plot our current beta value\n",
    "    ax[1].scatter(selected_beta_1, calculate_sum_of_squared_errors(targets=test['total'], predictions=test['no_previous'] * selected_beta_1), color='tab:red', s=100)\n",
    "    \n",
    "    # Plot the tangent line\n",
    "    if gradient:\n",
    "        x_1 = previous_beta\n",
    "        y_1 = calculate_sum_of_squared_errors(targets=test['total'], predictions=test['no_previous'] * previous_beta)\n",
    "        x_2 = selected_beta_1\n",
    "        y_2 = calculate_sum_of_squared_errors(targets=test['total'], predictions=test['no_previous'] * selected_beta_1)\n",
    "        m = (y_2 - y_1) / (x_2 - x_1)\n",
    "        b = y_1 - m * x_1\n",
    "        tangent_line = m * beta_1_values + b\n",
    "        ax[1].plot(beta_1_values, tangent_line, color='tab:orange', alpha=0.5, label='Tangent line', linestyle='--', linewidth=2)\n",
    "\n",
    "        # Add text with the formula for new beta and the new value\n",
    "        ax[1].text(0.6, 0.9, r'$\\beta_{1} = \\beta_{1} - \\alpha \\cdot \\frac{\\partial L}{\\partial \\beta_{1}}$', transform=ax[1].transAxes)\n",
    "        ax[1].text(0.6, 0.7, f'New beta: {selected_beta_1:.5f}', transform=ax[1].transAxes)\n",
    "        ax[1].text(0.6, 0.8, f'Gradient: {(gradient):.5f}', transform=ax[1].transAxes)\n",
    "\n",
    "    # Set axis labels and legends\n",
    "    ax[1].set_xlabel('Value of beta')\n",
    "    ax[1].set_ylabel('Sum of squared errors')\n",
    "    \n",
    "    # Set axis labels and legends\n",
    "    ax[0].set_xlabel('Percentage of drivers involved in fatal collisions not involved in previous accidents')\n",
    "    ax[0].set_ylabel('Number of drivers involved in fatal collisions per billion miles')\n",
    "    ax[0].set_title('Car crashes in the US linear regression model')\n",
    "    ax[1].set_title(r'Sum of squared errors for different values of $\\beta_{1}$')\n",
    "    ax[1].set_xlabel(r'$\\beta_{1}$')\n",
    "    ax[1].set_ylabel('Sum of squared errors')\n",
    "    ax[0].legend()\n",
    "    plt.show()\n",
    "    \n",
    "\n",
    "@widgets.interact(epochs=widgets.Play(interval=1,value=0,min=0,max=1000,step=1, description=\"Epochs\"), learning_rate=widgets.FloatText(min=0.00001, max=0.001, step=0.00001, value=0.00001))\n",
    "def plot_sgd(epochs, learning_rate):\n",
    "    # Plot the regression line with the selected coefficients\n",
    "    __, ax = plt.subplots(1, 2, figsize=(18, 6))\n",
    "    beta_1 = 0\n",
    "    gradient = None\n",
    "    previous_beta = None\n",
    "\n",
    "    # Run the gradient descent algorithm for the selected number of epochs\n",
    "    for epoch in range(int(epochs)):\n",
    "        beta_1, gradient, previous_beta = update_beta(beta_1, learning_rate, train['no_previous'], train['total'], beta_1 * train['no_previous'])\n",
    "    \n",
    "    # Plot all the data\n",
    "    plot_regression(beta_1, gradient, previous_beta, learning_rate, ax)"
   ]
  },
  {
   "cell_type": "markdown",
   "metadata": {
    "slideshow": {
     "slide_type": "slide"
    }
   },
   "source": [
    "### \"Where things can go wrong?\" - Overfitting and Underfitting"
   ]
  },
  {
   "cell_type": "markdown",
   "metadata": {
    "slideshow": {
     "slide_type": "skip"
    }
   },
   "source": [
    "We are going to leave behind our example data and for now, we will experiment with another type of dataset, this time with synthetic data (but let's pretend they are real)."
   ]
  },
  {
   "cell_type": "code",
   "execution_count": 9,
   "metadata": {
    "hideCode": true,
    "slideshow": {
     "slide_type": "subslide"
    }
   },
   "outputs": [
    {
     "data": {
      "image/png": "[encoded data removed]",
      "text/plain": [
       "<Figure size 600x600 with 1 Axes>"
      ]
     },
     "metadata": {},
     "output_type": "display_data"
    }
   ],
   "source": [
    "# Simulate noisy sine wave\n",
    "xs = np.linspace(0, np.pi, 100)\n",
    "ys = np.sin(xs) + np.random.normal(0, 0.2, 100)\n",
    "# remove some data pointsxs\n",
    "xs = xs[::2]\n",
    "ys = ys[::2]\n",
    "\n",
    "# compute true sine wave\n",
    "y_true = np.sin(xs)\n",
    "\n",
    "# plot the data\n",
    "plt.figure(figsize=(6, 6))\n",
    "plt.scatter(xs, ys, s=50, label='Training data')\n",
    "plt.plot(xs, y_true, color='tab:green', label='True function')\n",
    "plt.xlabel('Variable x')\n",
    "plt.ylabel('Variable y')\n",
    "plt.legend()\n",
    "plt.show()"
   ]
  },
  {
   "cell_type": "markdown",
   "metadata": {
    "slideshow": {
     "slide_type": "subslide"
    }
   },
   "source": [
    "Apart from anything else, try to think how well would our previous model work on this data. Hopefully, your answer is likely to be \"not very well\". The reason is that the nature of the data is not linear. The data points are not distributed along a straight line. And some polynomial functions would be a better fit for this data. To overcome this and still use the same model we will introduce polynomial features, basically, we will add new features to the dataset that are powers of the original features. It will help us to approximate non-linear functions with a linear function."
   ]
  },
  {
   "cell_type": "code",
   "execution_count": null,
   "metadata": {
    "hideCode": true,
    "slideshow": {
     "slide_type": "fragment"
    }
   },
   "outputs": [],
   "source": [
    "from sklearn.linear_model import LinearRegression\n",
    "from sklearn.preprocessing import PolynomialFeatures\n",
    "\n",
    "@widgets.interact(number_of_features=widgets.IntSlider(min=1, max=100, step=1, value=1))\n",
    "def plot_polynomial_regression(number_of_features):\n",
    "    fig, ax = plt.subplots(1, 2, figsize=(18, 6))\n",
    "    # Add second order polynomial features\n",
    "    poly = PolynomialFeatures(degree=number_of_features)\n",
    "    x_poly = poly.fit_transform(xs.reshape(-1, 1))\n",
    "\n",
    "    # Fit the model\n",
    "    model = LinearRegression()\n",
    "    model.fit(x_poly, ys)\n",
    "\n",
    "    # Predict the values\n",
    "    y_pred = model.predict(x_poly)\n",
    "\n",
    "    # Plot the data\n",
    "    ax[0].scatter(xs, ys, s=50, label='Training data')\n",
    "    ax[0].plot(xs, y_pred, color='tab:orange', label='Regression model', alpha=0.5)\n",
    "    ax[0].plot(xs, y_true, color='tab:green', label='True function')\n",
    "    ax[0].set_xlabel('Variable x')\n",
    "    ax[0].set_ylabel('Variable y')\n",
    "    ax[0].legend()\n",
    "\n",
    "    # Compute losses for different number of features\n",
    "    losses = []\n",
    "    for degree in range(1, 101):\n",
    "        poly = PolynomialFeatures(degree=degree)\n",
    "        x_poly = poly.fit_transform(xs.reshape(-1, 1))\n",
    "        model = LinearRegression()\n",
    "        model.fit(x_poly, ys)\n",
    "        y_pred = model.predict(x_poly)\n",
    "        loss = np.mean((y_pred - ys) ** 2)\n",
    "        losses.append(loss)\n",
    "    \n",
    "    # Plot the losses\n",
    "    ax[1].plot(range(1, 101), losses)\n",
    "    ax[1].scatter(number_of_features, losses[number_of_features - 1], color='tab:red', s=100)\n",
    "    ax[1].set_xlabel('Number of features')\n",
    "    ax[1].set_ylabel('Loss')\n",
    "    plt.show()"
   ]
  },
  {
   "cell_type": "markdown",
   "metadata": {
    "slideshow": {
     "slide_type": "slide"
    }
   },
   "source": [
    "You can observe that the more features you add (meaning more parameters to the model as well), the better the model is... up to the point. If you go even further more parameters will start to actually spoil the model and it will start to overfit the data. This is the problem of *overfitting*. The model is too complex and it is able to fit the noise in the data as well. The model is not able to generalize well and it will perform poorly on the new data. \n",
    "When there are, in contrast, not enough features, the model is too simple and it is not able to fit the data well. This is the problem of *underfitting*. You can read and check a similar experiment [here](https://scikit-learn.org/stable/auto_examples/model_selection/plot_underfitting_overfitting.html#sphx-glr-auto-examples-model-selection-plot-underfitting-overfitting-py)."
   ]
  },
  {
   "cell_type": "markdown",
   "metadata": {
    "slideshow": {
     "slide_type": "subslide"
    }
   },
   "source": [
    "The part of the truth:\n",
    "<div align=\"center\">\n",
    "    <img src=\"https://i.ibb.co/qFrXQx0/overfitting.png\">\n",
    "</div>\n",
    "\n",
    "The whole truth:\n",
    "<div align=\"center\">\n",
    "    <img src=\"https://i.ibb.co/k048kxZ/gen-double.png\">\n",
    "<div>\n",
    "\n",
    "(Optionally) go to this [web](https://openai.com/research/deep-double-descent) for more details."
   ]
  },
  {
   "cell_type": "markdown",
   "metadata": {
    "slideshow": {
     "slide_type": "skip"
    }
   },
   "source": [
    "It will be also relevant for neural networks, as sometimes large models tend to overfit. This means that instead of actually understanding the topic, they just memorize every single example from the training set. When new (unseen) data come, they tend to fail. \n",
    "The problem of underfitting and overfitting is the main thing that you should keep in mind when you are working with neural networks. \n",
    "\n",
    "> Note: it is also not the whole truth, actually surprisingly people found out that for very large models (meaning large deep neural networks) the solution can be to use even more parameters."
   ]
  },
  {
   "cell_type": "markdown",
   "metadata": {
    "slideshow": {
     "slide_type": "slide"
    }
   },
   "source": [
    "So, in a nutshell, the machine learning is about:\n",
    "- finding the right model\n",
    "- finding the good loss function for the model\n",
    "- finding the right balance between the complexity of the model and the generalization to prevent overfitting and underfitting"
   ]
  },
  {
   "cell_type": "markdown",
   "metadata": {
    "slideshow": {
     "slide_type": "slide"
    }
   },
   "source": [
    "## Towards Neural Networks - Perceptron"
   ]
  },
  {
   "cell_type": "markdown",
   "metadata": {
    "slideshow": {
     "slide_type": "subslide"
    }
   },
   "source": [
    "So, what about neural networks? Well, they are just a bunch of linear models combined together. The simplest neural network is called *perceptron*. We can imagine the simplest form of it with only a single layer. The neuron is a linear model with a non-linear activation function. The activation function is used to introduce non-linearity to the model. \n",
    "\n",
    "The activation function is needed to introduce non-linearity to the model. The most common activation functions are:\n",
    "- sigmoid\n",
    "- tanh\n",
    "- ReLU\n",
    "\n",
    "The sigmoid function is defined as:\n",
    "\n",
    "\\begin{gather*}\n",
    "\\sigma(x) = \\frac{1}{1 + e^{-x}}\n",
    "\\end{gather*}\n"
   ]
  },
  {
   "cell_type": "markdown",
   "metadata": {
    "slideshow": {
     "slide_type": "subslide"
    }
   },
   "source": [
    "<div align=\"center\">\n",
    "    <img src=\"https://i.ibb.co/N1BQ5X2/preceptron.png\">\n",
    "</div>"
   ]
  },
  {
   "cell_type": "code",
   "execution_count": null,
   "metadata": {
    "hideCode": true,
    "slideshow": {
     "slide_type": "subslide"
    }
   },
   "outputs": [],
   "source": [
    "# Generate sigmoid function\n",
    "def sigmoid(x):\n",
    "    return 1 / (1 + np.exp(-x))\n",
    "\n",
    "# Create data\n",
    "x = np.linspace(-10, 10, 100)\n",
    "y = sigmoid(x)\n",
    "\n",
    "# Plot the data\n",
    "plt.figure(figsize=(6, 6))\n",
    "plt.plot(x, y)\n",
    "plt.xlabel('Variable x')\n",
    "plt.ylabel('Sigmoid(x)')\n",
    "plt.show()"
   ]
  },
  {
   "cell_type": "markdown",
   "metadata": {
    "slideshow": {
     "slide_type": "notes"
    }
   },
   "source": [
    "The sigmoid function is especially useful for classification tasks because it outputs values between 0 and 1. The output can be interpreted as the probability of the data point belonging to a particular class. See below what the sigmoid function looks like. The class is usually defined as 1 if the probability is greater than 0.5 and 0 otherwise.\n",
    "\n",
    "You can see how this approach is more powerful than linear regression because of its non-linearity."
   ]
  },
  {
   "cell_type": "markdown",
   "metadata": {
    "slideshow": {
     "slide_type": "slide"
    }
   },
   "source": [
    "### Multilayer Perceptron"
   ]
  },
  {
   "cell_type": "markdown",
   "metadata": {
    "slideshow": {
     "slide_type": "subslide"
    }
   },
   "source": [
    "The whole actual trick besides activations happens when we add more layers to the network. The more layers we add, the more complex functions we can approximate. The more complex functions we can approximate, the more complex problems we can solve. But keep in mind overfitting issue."
   ]
  },
  {
   "cell_type": "markdown",
   "metadata": {
    "slideshow": {
     "slide_type": "fragment"
    }
   },
   "source": [
    "<div align=\"center\">\n",
    "    <img style=\"width:50%\" src=\"https://i.ibb.co/6w6DqLn/perceptron.png\">\n",
    "</div>"
   ]
  },
  {
   "cell_type": "markdown",
   "metadata": {
    "slideshow": {
     "slide_type": "skip"
    }
   },
   "source": [
    "## Bonus: Other approaches in Machine Learning. Decision trees for segmentation"
   ]
  },
  {
   "cell_type": "code",
   "execution_count": null,
   "metadata": {
    "hideCode": true
   },
   "outputs": [],
   "source": [
    "from skimage import data\n",
    "from PIL import Image"
   ]
  },
  {
   "cell_type": "markdown",
   "metadata": {
    "slideshow": {
     "slide_type": "skip"
    }
   },
   "source": [
    "By this time you may be familiar with the [Trainable Weka Segmentation](https://imagej.net/plugins/tws/) tool in Fiji or [Ilastik](https://www.ilastik.org/). Both these tools use machine learning (note not deep learning) algorithms to solve the task of pixel classification. More precisely they are using random forest classifier to do it. The random forest classifier just as a name suggest consist of multiple (decision) trees. This is called ensemble methods in machine learning. The central idea of an ensemble is relatively simple. Given that each individual classifier performs the task with some mistake, when taken collectively these mistakes would cancel out since the mistake is random and the final decision is made by the majority of votes. \n",
    "\n",
    "The decision tree (the one unit of the random forest) is a non-parametric supervised learning method used for classification and regression. The goal is to create a model that predicts the value of a target variable by learning simple decision rules inferred from the data features. To give a simple example: the segmentation of images by traditional thresholding can be seen as a very primitive decision tree. In this example, the decision is made based on the rule pixel being bigger than some threshold value. If yes, the pixel is classified as an object, otherwise, it is classified as background. \n",
    "\n",
    "You can learn more about decision trees [here](https://scikit-learn.org/stable/modules/tree.html#tree).\n",
    "\n",
    "In this tutorial, you can look more closely at how Weka Segmentation and Ilastik function inside. And also get some insights into how even relatively simple machine learning methods can be efficient in tackling complex bioimage tasks. \n",
    "\n",
    "> Important note: There is basically no such task as segmentation. To say that we are going to segment the image means that we are going to classify each pixel of the image into one of the classes.\n",
    "\n",
    "<div align=\"center\">\n",
    "    <img src=\"https://i.ibb.co/K2YCpXP/decision-trees.png\">\n",
    "</div>"
   ]
  },
  {
   "cell_type": "markdown",
   "metadata": {
    "slideshow": {
     "slide_type": "skip"
    }
   },
   "source": [
    "We will explore how it can be applied to machine learning on the simple example of cell nuclei. The image is a 2D array of shape (height, width). The values of the pixels are between 0 and 255. This example that you will work with uses the manually created annotations for some parts of the image. You will train the classifier on this parts and then use it to predict masks for whole image. "
   ]
  },
  {
   "cell_type": "code",
   "execution_count": null,
   "metadata": {
    "hideCode": true
   },
   "outputs": [],
   "source": [
    "!curl https://raw.githubusercontent.com/IMCF-Biocev/NNBA-2023/main/annotations.png --output annotations.png"
   ]
  },
  {
   "cell_type": "code",
   "execution_count": null,
   "metadata": {
    "hideCode": true,
    "slideshow": {
     "slide_type": "skip"
    }
   },
   "outputs": [],
   "source": [
    "# Read 3D image\n",
    "img = data.cells3d() \n",
    "# Load annotations from png\n",
    "annotations = np.array(Image.open('annotations.png'))\n",
    "\n",
    "# Select a single 2D plane and take only second channel\n",
    "img = img[31][1]\n",
    "\n",
    "# Plot the image and the annotations\n",
    "nuclei_mask = annotations == 2\n",
    "background_mask = annotations == 1\n",
    "\n",
    "# Create figure for 2 plots\n",
    "fig, ax = plt.subplots(1, 2, figsize=(16, 8))\n",
    "ax[1].imshow(img)\n",
    "ax[1].imshow(nuclei_mask, alpha=0.5, label='Nuclei')\n",
    "ax[1].imshow(background_mask, alpha=0.5, label='Background')\n",
    "ax[1].axis('off')\n",
    "ax[1].legend()\n",
    "\n",
    "ax[0].imshow(img, cmap='gray')\n",
    "plt.show()"
   ]
  },
  {
   "cell_type": "markdown",
   "metadata": {
    "slideshow": {
     "slide_type": "skip"
    }
   },
   "source": [
    "In our simple example with just traditionall thresholding this didn't work well because it only considered usual intensities (if you want to check it you can try implementing thresholding yourself!). For this to work better we want to also consider possible modifications or other features on the image. We will use a set of filters to generate it:\n",
    "1. Gaussian filter will generate slightly blurred (denoised) image,\n",
    "2. Sobel filter will generate image with only edges of objects visible\n",
    "3. Laplacian filter will also generate image with only edges of objects visible but in a different way than Sobel filter"
   ]
  },
  {
   "cell_type": "code",
   "execution_count": null,
   "metadata": {
    "hideCode": true,
    "slideshow": {
     "slide_type": "skip"
    }
   },
   "outputs": [],
   "source": [
    "def generate_features(image):\n",
    "    # Apply Gaussian filter to image with sigma=2\n",
    "    blurred = filters.gaussian(image, sigma=2)\n",
    "\n",
    "    # Apply Sobel filter to blurred image to detect edges\n",
    "    edges = filters.sobel(blurred)\n",
    "\n",
    "    # Apply Canny filter to blurred image to detect edges\n",
    "    edges2 = filters.laplace(blurred)\n",
    "\n",
    "    # Collect image, blurred, and edges features in a stack\n",
    "    feature_stack = [image.ravel(), blurred.ravel(), edges.ravel(), edges2.ravel()]\n",
    "\n",
    "    # Return stack as numpy-array\n",
    "    return np.asarray(feature_stack)\n",
    "\n",
    "feature_stack = generate_features(img)\n",
    "\n",
    "fig, axes = plt.subplots(1, 4, figsize=(10,10))\n",
    "\n",
    "# reshape(image.shape) is the opposite of ravel() here. We just need it for visualization.\n",
    "axes[0].imshow(feature_stack[0].reshape(img.shape), cmap=plt.cm.gray)\n",
    "axes[1].imshow(feature_stack[1].reshape(img.shape), cmap=plt.cm.gray)\n",
    "axes[2].imshow(feature_stack[2].reshape(img.shape), cmap=plt.cm.gray)\n",
    "axes[3].imshow(feature_stack[3].reshape(img.shape), cmap=plt.cm.gray)"
   ]
  },
  {
   "cell_type": "code",
   "execution_count": null,
   "metadata": {
    "hideCode": true,
    "slideshow": {
     "slide_type": "skip"
    }
   },
   "outputs": [],
   "source": [
    "def format_data(feature_stack, annotation):\n",
    "    # Transpose feature stack to match scikit-learn format\n",
    "    X = feature_stack.T\n",
    "\n",
    "    # Convert annotation to a 1D array\n",
    "    y = annotation.ravel()\n",
    "\n",
    "    # Remove pixels that have not been annotated\n",
    "    mask = y > 0\n",
    "    X = X[mask]\n",
    "    y = y[mask]\n",
    "\n",
    "    # Return formatted data\n",
    "    return X, y\n",
    "\n",
    "X, y = format_data(feature_stack, annotations)"
   ]
  },
  {
   "cell_type": "markdown",
   "metadata": {
    "slideshow": {
     "slide_type": "skip"
    }
   },
   "source": [
    "Now we can train Decision Tree Classifier. The classifier will be trained on the features that we have generated. The features are the intensities of the pixels in the images. The target is the class of the pixel. The class is either 0 (background) or 1 (foreground). The classifier will learn to predict the class of the pixel based on the intensity of the pixel."
   ]
  },
  {
   "cell_type": "code",
   "execution_count": null,
   "metadata": {
    "hideCode": true,
    "slideshow": {
     "slide_type": "skip"
    }
   },
   "outputs": [],
   "source": [
    "from sklearn import tree\n",
    "\n",
    "# Create decision tree classifier\n",
    "classifier = tree.DecisionTreeClassifier(max_depth=5, random_state=0)\n",
    "# Fit classifier to data\n",
    "classifier.fit(X, y)"
   ]
  },
  {
   "cell_type": "code",
   "execution_count": null,
   "metadata": {
    "hideCode": true,
    "slideshow": {
     "slide_type": "skip"
    }
   },
   "outputs": [],
   "source": [
    "# Predict labels for all pixels in the image\n",
    "result_1d = classifier.predict(feature_stack.T)\n",
    "result_2d = result_1d.reshape(img.shape)\n",
    "plt.imshow(img, cmap=plt.cm.gray, alpha=0.8)\n",
    "plt.imshow(result_2d, alpha=0.3)"
   ]
  },
  {
   "cell_type": "markdown",
   "metadata": {
    "slideshow": {
     "slide_type": "skip"
    }
   },
   "source": [
    "We can also check how well it would perform on other images (taken from the same stack)."
   ]
  },
  {
   "cell_type": "code",
   "execution_count": null,
   "metadata": {
    "hideCode": true,
    "slideshow": {
     "slide_type": "skip"
    }
   },
   "outputs": [],
   "source": [
    "img = data.cells3d() # read 3D image\n",
    "\n",
    "imgs = [img[35][1], img[19][1], img[24][1]]\n",
    "imgs = np.asarray(imgs)\n",
    "\n",
    "print(imgs[1].shape)\n",
    "# predict the labels and plot\n",
    "fig, axes = plt.subplots(1, 3, figsize=(15, 5))\n",
    "for i in range(3):\n",
    "    # generate features\n",
    "    feature_stack = generate_features(imgs[i])\n",
    "    # train classifier\n",
    "    result_1d = classifier.predict(feature_stack.T)\n",
    "    result_2d = result_1d.reshape(imgs[i].shape)\n",
    "    axes[i].imshow(imgs[i], cmap=plt.cm.gray)\n",
    "    axes[i].imshow(result_2d, alpha=0.3)\n",
    "    axes[i].axis('off')\n",
    "plt.show()"
   ]
  },
  {
   "cell_type": "markdown",
   "metadata": {
    "slideshow": {
     "slide_type": "skip"
    }
   },
   "source": [
    "Again, the decision tree works by creating simple rules that it follows. Let's check what these rules were here. "
   ]
  },
  {
   "cell_type": "code",
   "execution_count": null,
   "metadata": {
    "hideCode": true,
    "slideshow": {
     "slide_type": "skip"
    }
   },
   "outputs": [],
   "source": [
    "tree.plot_tree(classifier)"
   ]
  },
  {
   "cell_type": "markdown",
   "metadata": {
    "slideshow": {
     "slide_type": "skip"
    }
   },
   "source": [
    "You can see that it used only second feature (Gaussian filter) to make the decision. And then it arrived at the best possible value to split the data. The best possible split is defined using the special criterium which is the same concept as the loss function in neural networks. The criterium is called Gini impurity. The lower the Gini impurity, the better the split. The Gini impurity is defined as:\n",
    "\n",
    "\\begin{gather*}\n",
    "\\text{Gini} = 1 - \\sum_{i=1}^{n} p_i^2\n",
    "\\end{gather*}\n",
    "\n",
    "where $p_i$ is the probability of the class $i$. The Gini impurity forces the data after separation to be as uniform as possible (only one class should be present).  "
   ]
  },
  {
   "cell_type": "markdown",
   "metadata": {
    "slideshow": {
     "slide_type": "slide"
    }
   },
   "source": [
    "## Resources"
   ]
  },
  {
   "cell_type": "markdown",
   "metadata": {
    "slideshow": {
     "slide_type": "subslide"
    }
   },
   "source": [
    "There is very little chance to cover all the topics in this tutorial. So, if you want to learn more about machine learning, I recommend you to check out the following resources. \n",
    "\n",
    "1. If you want to understand the basics:\n",
    "\n",
    "- [StatQuest with Josh Starmer](https://www.youtube.com/@statquest)\n",
    "\n",
    "- [Neural networks playlist by 3Blue1Brown ](https://www.youtube.com/playlist?list=PLZHQObOWTQDNU6R1_67000Dx_ZCJB-3pi)\n",
    "\n",
    "2. If you want to dive deeper:\n",
    "\n",
    "- [Machine Learning course by Andrew Ng](https://www.coursera.org/learn/machine-learning)\n",
    "\n",
    "- [Deep Learning course by Andrew Ng](https://www.coursera.org/specializations/deep-learning)\n",
    "\n",
    "- [Deep Learning book by Ian Goodfellow, Yoshua Bengio and Aaron Courville](https://www.deeplearningbook.org/)\n",
    "\n",
    "- [Deep Learning course by Fast.ai](https://course.fast.ai/)"
   ]
  }
 ],
 "metadata": {
  "celltoolbar": "Slideshow",
  "kernelspec": {
   "display_name": "Python sklearn-env",
   "language": "python",
   "name": "sklearn-env"
  },
  "language_info": {
   "codemirror_mode": {
    "name": "ipython",
    "version": 3
   },
   "file_extension": ".py",
   "mimetype": "text/x-python",
   "name": "python",
   "nbconvert_exporter": "python",
   "pygments_lexer": "ipython3",
   "version": "3.11.2"
  }
 },
 "nbformat": 4,
 "nbformat_minor": 2
}
